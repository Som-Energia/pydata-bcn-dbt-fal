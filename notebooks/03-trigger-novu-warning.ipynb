{
 "cells": [
  {
   "cell_type": "code",
   "execution_count": 1,
   "metadata": {},
   "outputs": [],
   "source": [
    "from novu.api import EventApi\n",
    "import os"
   ]
  },
  {
   "attachments": {},
   "cell_type": "markdown",
   "metadata": {},
   "source": [
    "# Use Novu instance as subscriber"
   ]
  },
  {
   "attachments": {},
   "cell_type": "markdown",
   "metadata": {},
   "source": [
    "These values are dependent on your environment. You can find them in the Novu app."
   ]
  },
  {
   "attachments": {},
   "cell_type": "markdown",
   "metadata": {},
   "source": [
    "![novu-token](../assets/img/2023-05-29_18-20-novu-token.png)"
   ]
  },
  {
   "attachments": {},
   "cell_type": "markdown",
   "metadata": {},
   "source": [
    "# Retrieve api key and subscriber id\n",
    "\n",
    "- these are passed in as environment variables through docker compose\n",
    "- you can set them with `export NOVU_API_KEY=your_api_key` and `export NOVU_SUBSCRIBER_ID=your_api_id`\n",
    "- getting the first token is tricky. Copy button won't work on http. See https://discordapp.com/channels/895029566685462578/1081079551179890709\n",
    "- alternatively, read it using the developer tools in your browser"
   ]
  },
  {
   "attachments": {},
   "cell_type": "markdown",
   "metadata": {},
   "source": [
    "![api-key](../assets/img/2023-05-29_18-40-copy-api-key.png)"
   ]
  },
  {
   "cell_type": "code",
   "execution_count": 15,
   "metadata": {},
   "outputs": [
    {
     "data": {
      "text/plain": [
       "'602553eb2d16bee4d9dc23ce3ab1d48f'"
      ]
     },
     "execution_count": 15,
     "metadata": {},
     "output_type": "execute_result"
    }
   ],
   "source": [
    "os.environ.update({\"NOVU_API_KEY\": \"602553eb2d16bee4d9dc23ce3ab1d48f\"}) \n",
    "os.environ.get(\"NOVU_API_KEY\")"
   ]
  },
  {
   "cell_type": "code",
   "execution_count": 18,
   "metadata": {},
   "outputs": [
    {
     "data": {
      "text/plain": [
       "'6474ac3696ac3eb9b00fd6e5'"
      ]
     },
     "execution_count": 18,
     "metadata": {},
     "output_type": "execute_result"
    }
   ],
   "source": [
    "os.environ.update({\"NOVU_SUBSCRIBER_ID\": \"6474ac3696ac3eb9b00fd6e5\"})\n",
    "os.environ.get(\"NOVU_SUBSCRIBER_ID\")"
   ]
  },
  {
   "cell_type": "code",
   "execution_count": 17,
   "metadata": {},
   "outputs": [],
   "source": [
    "# Send a notification to the Novu app\n",
    "event_api = EventApi(\n",
    "\t\"http://novu-api:3000\",\n",
    "\tos.environ.get(\"NOVU_API_KEY\"),\n",
    ")"
   ]
  },
  {
   "cell_type": "code",
   "execution_count": 20,
   "metadata": {},
   "outputs": [
    {
     "data": {
      "text/plain": [
       "EventDto(acknowledged=True, status='processed', transaction_id='de6c1300-58dd-4807-a6d9-a97085701e85')"
      ]
     },
     "execution_count": 20,
     "metadata": {},
     "output_type": "execute_result"
    }
   ],
   "source": [
    "# trigger notification\n",
    "import datetime as dt\n",
    "\n",
    "\n",
    "event_api.trigger(\n",
    "\tname=\"pydata-demo-1\",\n",
    "\trecipients=os.environ.get(\"NOVU_SUBSCRIBER_ID\"),\n",
    "\tpayload={\"message\": f\"Hello, pydata! Watch this: {dt.datetime.now().isoformat()}\"},\n",
    ")"
   ]
  },
  {
   "cell_type": "code",
   "execution_count": null,
   "metadata": {},
   "outputs": [],
   "source": []
  }
 ],
 "metadata": {
  "kernelspec": {
   "display_name": ".venv",
   "language": "python",
   "name": "python3"
  },
  "language_info": {
   "codemirror_mode": {
    "name": "ipython",
    "version": 3
   },
   "file_extension": ".py",
   "mimetype": "text/x-python",
   "name": "python",
   "nbconvert_exporter": "python",
   "pygments_lexer": "ipython3",
   "version": "3.10.9"
  },
  "orig_nbformat": 4
 },
 "nbformat": 4,
 "nbformat_minor": 2
}
