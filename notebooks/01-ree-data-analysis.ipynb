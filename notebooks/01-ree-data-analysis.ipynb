{
 "cells": [
  {
   "cell_type": "code",
   "execution_count": 43,
   "metadata": {},
   "outputs": [],
   "source": [
    "import pandas as pd\n",
    "from pathlib import Path\n",
    "\n",
    "# Read the data\n",
    "data_path = Path.cwd().parent / \"assets\" / \"datasets\" / \"raw\" / \"Perfiles_iniciales_de_consumo_y_demanda_de_referencia_2023.csv\"\n",
    "\n",
    "df = pd.read_csv(data_path, sep=\";\", decimal=\".\", thousands=\",\", index_col=0)"
   ]
  },
  {
   "cell_type": "code",
   "execution_count": 44,
   "metadata": {},
   "outputs": [
    {
     "data": {
      "text/html": [
       "<div>\n",
       "<style scoped>\n",
       "    .dataframe tbody tr th:only-of-type {\n",
       "        vertical-align: middle;\n",
       "    }\n",
       "\n",
       "    .dataframe tbody tr th {\n",
       "        vertical-align: top;\n",
       "    }\n",
       "\n",
       "    .dataframe thead th {\n",
       "        text-align: right;\n",
       "    }\n",
       "</style>\n",
       "<table border=\"1\" class=\"dataframe\">\n",
       "  <thead>\n",
       "    <tr style=\"text-align: right;\">\n",
       "      <th></th>\n",
       "      <th>Día</th>\n",
       "      <th>Hora</th>\n",
       "      <th>P2.0TD,0m,d,h</th>\n",
       "      <th>P3.0TD,0m,d,h</th>\n",
       "      <th>P3.0TDVE,0m,d,h</th>\n",
       "      <th>Demanda de Referencia 2023 (MW)</th>\n",
       "    </tr>\n",
       "    <tr>\n",
       "      <th>Mes</th>\n",
       "      <th></th>\n",
       "      <th></th>\n",
       "      <th></th>\n",
       "      <th></th>\n",
       "      <th></th>\n",
       "      <th></th>\n",
       "    </tr>\n",
       "  </thead>\n",
       "  <tbody>\n",
       "    <tr>\n",
       "      <th>1</th>\n",
       "      <td>1</td>\n",
       "      <td>1</td>\n",
       "      <td>0.000136</td>\n",
       "      <td>0.000086</td>\n",
       "      <td>0.000084</td>\n",
       "      <td>25418</td>\n",
       "    </tr>\n",
       "    <tr>\n",
       "      <th>1</th>\n",
       "      <td>1</td>\n",
       "      <td>2</td>\n",
       "      <td>0.000116</td>\n",
       "      <td>0.000081</td>\n",
       "      <td>0.000066</td>\n",
       "      <td>23582</td>\n",
       "    </tr>\n",
       "    <tr>\n",
       "      <th>1</th>\n",
       "      <td>1</td>\n",
       "      <td>3</td>\n",
       "      <td>0.000100</td>\n",
       "      <td>0.000078</td>\n",
       "      <td>0.000050</td>\n",
       "      <td>22153</td>\n",
       "    </tr>\n",
       "    <tr>\n",
       "      <th>1</th>\n",
       "      <td>1</td>\n",
       "      <td>4</td>\n",
       "      <td>0.000091</td>\n",
       "      <td>0.000077</td>\n",
       "      <td>0.000047</td>\n",
       "      <td>21272</td>\n",
       "    </tr>\n",
       "    <tr>\n",
       "      <th>1</th>\n",
       "      <td>1</td>\n",
       "      <td>5</td>\n",
       "      <td>0.000085</td>\n",
       "      <td>0.000077</td>\n",
       "      <td>0.000058</td>\n",
       "      <td>20844</td>\n",
       "    </tr>\n",
       "  </tbody>\n",
       "</table>\n",
       "</div>"
      ],
      "text/plain": [
       "     Día  Hora  P2.0TD,0m,d,h  P3.0TD,0m,d,h  P3.0TDVE,0m,d,h  \\\n",
       "Mes                                                             \n",
       "1      1     1       0.000136       0.000086         0.000084   \n",
       "1      1     2       0.000116       0.000081         0.000066   \n",
       "1      1     3       0.000100       0.000078         0.000050   \n",
       "1      1     4       0.000091       0.000077         0.000047   \n",
       "1      1     5       0.000085       0.000077         0.000058   \n",
       "\n",
       "     Demanda de Referencia 2023 (MW)  \n",
       "Mes                                   \n",
       "1                              25418  \n",
       "1                              23582  \n",
       "1                              22153  \n",
       "1                              21272  \n",
       "1                              20844  "
      ]
     },
     "execution_count": 44,
     "metadata": {},
     "output_type": "execute_result"
    }
   ],
   "source": [
    "df.head()"
   ]
  },
  {
   "cell_type": "code",
   "execution_count": 45,
   "metadata": {},
   "outputs": [],
   "source": [
    "# reset index\n",
    "df.reset_index(inplace=True)"
   ]
  },
  {
   "cell_type": "code",
   "execution_count": 46,
   "metadata": {},
   "outputs": [],
   "source": [
    "# rename columns\n",
    "col_mapping = {\n",
    "    \"Mes\": \"month\",\n",
    "    \"Día\": \"day\",\n",
    "    \"Hora\": \"hour\",\n",
    "    \"P2.0TD,0m,d,h\": \"p20td\",\n",
    "    \"P3.0TD,0m,d,h\": \"p30td\",\n",
    "    \"P3.0TDVE,0m,d,h\": \"p30tdve\",\n",
    "    \"Demanda de Referencia 2023 (MW)\": \"ref_demand_2023_mw\",\n",
    "}\n",
    "\n",
    "# rename columns\n",
    "df.rename(columns=col_mapping, inplace=True)"
   ]
  },
  {
   "cell_type": "code",
   "execution_count": 47,
   "metadata": {},
   "outputs": [],
   "source": [
    "# build datetime column\n",
    "df['_timestamp'] = df[['month', 'day', 'hour']].apply(lambda x: f\"2023-{x[0]:02d}-{x[1]:02d} 00:00:00\", axis=1)"
   ]
  },
  {
   "cell_type": "code",
   "execution_count": 64,
   "metadata": {},
   "outputs": [],
   "source": [
    "# convert to datetime\n",
    "df['timestamp'] = pd.to_datetime(df['_timestamp'], format=\"%Y-%m-%d %H:%M:%S\")\n",
    "\n",
    "# add number of hours column\n",
    "df['timestamp'] = df['timestamp'] + pd.to_timedelta(df['hour'], unit='h')"
   ]
  },
  {
   "cell_type": "code",
   "execution_count": 67,
   "metadata": {},
   "outputs": [
    {
     "data": {
      "text/html": [
       "<div>\n",
       "<style scoped>\n",
       "    .dataframe tbody tr th:only-of-type {\n",
       "        vertical-align: middle;\n",
       "    }\n",
       "\n",
       "    .dataframe tbody tr th {\n",
       "        vertical-align: top;\n",
       "    }\n",
       "\n",
       "    .dataframe thead th {\n",
       "        text-align: right;\n",
       "    }\n",
       "</style>\n",
       "<table border=\"1\" class=\"dataframe\">\n",
       "  <thead>\n",
       "    <tr style=\"text-align: right;\">\n",
       "      <th></th>\n",
       "      <th>month</th>\n",
       "      <th>day</th>\n",
       "      <th>hour</th>\n",
       "      <th>p20td</th>\n",
       "      <th>p30td</th>\n",
       "      <th>p30tdve</th>\n",
       "      <th>ref_demand_2023_mw</th>\n",
       "      <th>_timestamp</th>\n",
       "      <th>timestamp</th>\n",
       "    </tr>\n",
       "  </thead>\n",
       "  <tbody>\n",
       "    <tr>\n",
       "      <th>0</th>\n",
       "      <td>1</td>\n",
       "      <td>1</td>\n",
       "      <td>1</td>\n",
       "      <td>0.000136</td>\n",
       "      <td>0.000086</td>\n",
       "      <td>0.000084</td>\n",
       "      <td>25418</td>\n",
       "      <td>2023-01-01 00:00:00</td>\n",
       "      <td>2023-01-01 01:00:00</td>\n",
       "    </tr>\n",
       "    <tr>\n",
       "      <th>1</th>\n",
       "      <td>1</td>\n",
       "      <td>1</td>\n",
       "      <td>2</td>\n",
       "      <td>0.000116</td>\n",
       "      <td>0.000081</td>\n",
       "      <td>0.000066</td>\n",
       "      <td>23582</td>\n",
       "      <td>2023-01-01 00:00:00</td>\n",
       "      <td>2023-01-01 02:00:00</td>\n",
       "    </tr>\n",
       "    <tr>\n",
       "      <th>2</th>\n",
       "      <td>1</td>\n",
       "      <td>1</td>\n",
       "      <td>3</td>\n",
       "      <td>0.000100</td>\n",
       "      <td>0.000078</td>\n",
       "      <td>0.000050</td>\n",
       "      <td>22153</td>\n",
       "      <td>2023-01-01 00:00:00</td>\n",
       "      <td>2023-01-01 03:00:00</td>\n",
       "    </tr>\n",
       "    <tr>\n",
       "      <th>3</th>\n",
       "      <td>1</td>\n",
       "      <td>1</td>\n",
       "      <td>4</td>\n",
       "      <td>0.000091</td>\n",
       "      <td>0.000077</td>\n",
       "      <td>0.000047</td>\n",
       "      <td>21272</td>\n",
       "      <td>2023-01-01 00:00:00</td>\n",
       "      <td>2023-01-01 04:00:00</td>\n",
       "    </tr>\n",
       "    <tr>\n",
       "      <th>4</th>\n",
       "      <td>1</td>\n",
       "      <td>1</td>\n",
       "      <td>5</td>\n",
       "      <td>0.000085</td>\n",
       "      <td>0.000077</td>\n",
       "      <td>0.000058</td>\n",
       "      <td>20844</td>\n",
       "      <td>2023-01-01 00:00:00</td>\n",
       "      <td>2023-01-01 05:00:00</td>\n",
       "    </tr>\n",
       "  </tbody>\n",
       "</table>\n",
       "</div>"
      ],
      "text/plain": [
       "   month  day  hour     p20td     p30td   p30tdve  ref_demand_2023_mw  \\\n",
       "0      1    1     1  0.000136  0.000086  0.000084               25418   \n",
       "1      1    1     2  0.000116  0.000081  0.000066               23582   \n",
       "2      1    1     3  0.000100  0.000078  0.000050               22153   \n",
       "3      1    1     4  0.000091  0.000077  0.000047               21272   \n",
       "4      1    1     5  0.000085  0.000077  0.000058               20844   \n",
       "\n",
       "            _timestamp           timestamp  \n",
       "0  2023-01-01 00:00:00 2023-01-01 01:00:00  \n",
       "1  2023-01-01 00:00:00 2023-01-01 02:00:00  \n",
       "2  2023-01-01 00:00:00 2023-01-01 03:00:00  \n",
       "3  2023-01-01 00:00:00 2023-01-01 04:00:00  \n",
       "4  2023-01-01 00:00:00 2023-01-01 05:00:00  "
      ]
     },
     "execution_count": 67,
     "metadata": {},
     "output_type": "execute_result"
    }
   ],
   "source": [
    "# assuming hour 24 is last hour of the day and lands on 00:00:00 of the next day\n",
    "df.head()"
   ]
  },
  {
   "cell_type": "code",
   "execution_count": 68,
   "metadata": {},
   "outputs": [],
   "source": [
    "import seaborn as sns"
   ]
  },
  {
   "cell_type": "code",
   "execution_count": 74,
   "metadata": {},
   "outputs": [
    {
     "data": {
      "text/plain": [
       "<Axes: xlabel='timestamp', ylabel='value'>"
      ]
     },
     "execution_count": 74,
     "metadata": {},
     "output_type": "execute_result"
    },
    {
     "data": {
      "image/png": "[encoded data removed]",
      "text/plain": [
       "<Figure size 640x480 with 1 Axes>"
      ]
     },
     "metadata": {},
     "output_type": "display_data"
    }
   ],
   "source": [
    "# plot everything\n",
    "sns.lineplot(data=df.melt(id_vars=['timestamp'], value_vars=['p20td', 'p30td', 'p30tdve']), x=\"timestamp\", y=\"value\", hue=\"variable\", alpha=0.5)"
   ]
  },
  {
   "cell_type": "code",
   "execution_count": 78,
   "metadata": {},
   "outputs": [],
   "source": [
    "# save to csv\n",
    "df.drop(columns=['_timestamp', 'month', 'day', 'hour']).to_csv(Path.cwd().parent / \"assets\" / \"datasets\" / \"processed\" / \"ree-demand-profiles.csv\", index=False)\n",
    "\n",
    "# save to feather\n",
    "df.drop(columns=['_timestamp', 'month', 'day', 'hour']).to_feather(Path.cwd().parent / \"assets\" / \"datasets\" / \"processed\" / \"ree-demand-profiles.feather\")"
   ]
  }
 ],
 "metadata": {
  "kernelspec": {
   "display_name": ".venv",
   "language": "python",
   "name": "python3"
  },
  "language_info": {
   "codemirror_mode": {
    "name": "ipython",
    "version": 3
   },
   "file_extension": ".py",
   "mimetype": "text/x-python",
   "name": "python",
   "nbconvert_exporter": "python",
   "pygments_lexer": "ipython3",
   "version": "3.10.9"
  },
  "orig_nbformat": 4
 },
 "nbformat": 4,
 "nbformat_minor": 2
}
